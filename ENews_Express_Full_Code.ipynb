{
 "cells": [
  {
   "cell_type": "markdown",
   "id": "6yDxo9u0d9Na",
   "metadata": {
    "id": "6yDxo9u0d9Na"
   },
   "source": [
    "# Project Business Statistics: E-news Express\n",
    "\n",
    "**Marks: 60**"
   ]
  },
  {
   "cell_type": "markdown",
   "id": "SrLd-ICEmPSD",
   "metadata": {
    "id": "SrLd-ICEmPSD"
   },
   "source": [
    "## Define Problem Statement and Objectives"
   ]
  },
  {
   "cell_type": "markdown",
   "id": "9Vt1PLLqmXNn",
   "metadata": {
    "id": "9Vt1PLLqmXNn"
   },
   "source": [
    "To determine if the new landing page of an online news portal is an effective way to acquire new subscribers based on the interests of its visitors, the following tasks need to be completed:\n",
    "\n",
    "Perform Exploratory Data Analysis on the dataset to extract insights.\n",
    "Use a significance level of 0.05 for all tests conducted.\n",
    "Answer the following questions:\n",
    "a. Do users spend more time on the new landing page compared to the existing landing page?\n",
    "b. Is the conversion rate for the new landing page greater than the conversion rate for the old landing page?\n",
    "c. Does the converted status depend on the preferred language of the user?\n",
    "d. Is the average time spent on the new landing page the same for users who prefer different languages?"
   ]
  },
  {
   "cell_type": "markdown",
   "id": "a6a3d218",
   "metadata": {
    "id": "a6a3d218"
   },
   "source": [
    "## Import all the necessary libraries"
   ]
  },
  {
   "cell_type": "code",
   "execution_count": 32,
   "id": "658c5dec",
   "metadata": {
    "id": "658c5dec"
   },
   "outputs": [],
   "source": [
    "import pandas as pd\n",
    "import numpy as np\n",
    "import seaborn as sns\n",
    "import matplotlib.pyplot as plt\n",
    "%matplotlib inline\n",
    "sns.set(color_codes = True)   # adds background to the graph\n",
    "from PIL import Image\n",
    "\n",
    "# Library required for statistical analysis\n",
    "\n",
    "import scipy.stats as stats"
   ]
  },
  {
   "cell_type": "code",
   "execution_count": 27,
   "id": "7dac3aa4",
   "metadata": {},
   "outputs": [],
   "source": [
    "# Library required to suppress any warning messages\n",
    "\n",
    "import warnings\n",
    "warnings.filterwarnings('ignore')\n",
    "\n",
    "# Creating an array of color codes to use in this project\n",
    "\n",
    "colors = ['#4178FB','#4DE0FA','#7DFFC6']\n",
    "\n",
    "# Setting custom color palette\n",
    "\n",
    "sns.set_palette(sns.color_palette(colors))\n",
    "\n"
   ]
  },
  {
   "cell_type": "markdown",
   "id": "6970dd99",
   "metadata": {
    "id": "6970dd99"
   },
   "source": [
    "## Reading the Data into a DataFrame"
   ]
  },
  {
   "cell_type": "code",
   "execution_count": 28,
   "id": "d3b95640",
   "metadata": {
    "id": "d3b95640"
   },
   "outputs": [],
   "source": [
    "# read the data\n",
    "df = pd.read_csv('DATA/abtest.csv')"
   ]
  },
  {
   "cell_type": "markdown",
   "id": "9d75cfa2",
   "metadata": {
    "id": "9d75cfa2"
   },
   "source": [
    "## Explore the dataset and extract insights using Exploratory Data Analysis"
   ]
  },
  {
   "cell_type": "markdown",
   "id": "27201534",
   "metadata": {
    "id": "27201534"
   },
   "source": [
    "- Data Overview\n",
    "  - Viewing the first and last few rows of the dataset\n",
    "  - Checking the shape of the dataset\n",
    "  - Getting the statistical summary for the variables\n",
    "- Check for missing values\n",
    "- Check for duplicates"
   ]
  },
  {
   "cell_type": "code",
   "execution_count": 42,
   "id": "e1ad11d4",
   "metadata": {
    "id": "e1ad11d4"
   },
   "outputs": [],
   "source": [
    "data=df.copy()"
   ]
  },
  {
   "cell_type": "code",
   "execution_count": 43,
   "id": "ce58f2af",
   "metadata": {},
   "outputs": [
    {
     "data": {
      "text/html": [
       "<div>\n",
       "<style scoped>\n",
       "    .dataframe tbody tr th:only-of-type {\n",
       "        vertical-align: middle;\n",
       "    }\n",
       "\n",
       "    .dataframe tbody tr th {\n",
       "        vertical-align: top;\n",
       "    }\n",
       "\n",
       "    .dataframe thead th {\n",
       "        text-align: right;\n",
       "    }\n",
       "</style>\n",
       "<table border=\"1\" class=\"dataframe\">\n",
       "  <thead>\n",
       "    <tr style=\"text-align: right;\">\n",
       "      <th></th>\n",
       "      <th>user_id</th>\n",
       "      <th>group</th>\n",
       "      <th>landing_page</th>\n",
       "      <th>time_spent_on_the_page</th>\n",
       "      <th>converted</th>\n",
       "      <th>language_preferred</th>\n",
       "    </tr>\n",
       "  </thead>\n",
       "  <tbody>\n",
       "    <tr>\n",
       "      <th>0</th>\n",
       "      <td>546592</td>\n",
       "      <td>control</td>\n",
       "      <td>old</td>\n",
       "      <td>3.48</td>\n",
       "      <td>no</td>\n",
       "      <td>Spanish</td>\n",
       "    </tr>\n",
       "    <tr>\n",
       "      <th>1</th>\n",
       "      <td>546468</td>\n",
       "      <td>treatment</td>\n",
       "      <td>new</td>\n",
       "      <td>7.13</td>\n",
       "      <td>yes</td>\n",
       "      <td>English</td>\n",
       "    </tr>\n",
       "    <tr>\n",
       "      <th>2</th>\n",
       "      <td>546462</td>\n",
       "      <td>treatment</td>\n",
       "      <td>new</td>\n",
       "      <td>4.40</td>\n",
       "      <td>no</td>\n",
       "      <td>Spanish</td>\n",
       "    </tr>\n",
       "    <tr>\n",
       "      <th>3</th>\n",
       "      <td>546567</td>\n",
       "      <td>control</td>\n",
       "      <td>old</td>\n",
       "      <td>3.02</td>\n",
       "      <td>no</td>\n",
       "      <td>French</td>\n",
       "    </tr>\n",
       "    <tr>\n",
       "      <th>4</th>\n",
       "      <td>546459</td>\n",
       "      <td>treatment</td>\n",
       "      <td>new</td>\n",
       "      <td>4.75</td>\n",
       "      <td>yes</td>\n",
       "      <td>Spanish</td>\n",
       "    </tr>\n",
       "  </tbody>\n",
       "</table>\n",
       "</div>"
      ],
      "text/plain": [
       "   user_id      group landing_page  time_spent_on_the_page converted  \\\n",
       "0   546592    control          old                    3.48        no   \n",
       "1   546468  treatment          new                    7.13       yes   \n",
       "2   546462  treatment          new                    4.40        no   \n",
       "3   546567    control          old                    3.02        no   \n",
       "4   546459  treatment          new                    4.75       yes   \n",
       "\n",
       "  language_preferred  \n",
       "0            Spanish  \n",
       "1            English  \n",
       "2            Spanish  \n",
       "3             French  \n",
       "4            Spanish  "
      ]
     },
     "execution_count": 43,
     "metadata": {},
     "output_type": "execute_result"
    }
   ],
   "source": [
    "data.head()"
   ]
  },
  {
   "cell_type": "code",
   "execution_count": 44,
   "id": "00c6a4a6",
   "metadata": {},
   "outputs": [
    {
     "data": {
      "text/html": [
       "<div>\n",
       "<style scoped>\n",
       "    .dataframe tbody tr th:only-of-type {\n",
       "        vertical-align: middle;\n",
       "    }\n",
       "\n",
       "    .dataframe tbody tr th {\n",
       "        vertical-align: top;\n",
       "    }\n",
       "\n",
       "    .dataframe thead th {\n",
       "        text-align: right;\n",
       "    }\n",
       "</style>\n",
       "<table border=\"1\" class=\"dataframe\">\n",
       "  <thead>\n",
       "    <tr style=\"text-align: right;\">\n",
       "      <th></th>\n",
       "      <th>user_id</th>\n",
       "      <th>group</th>\n",
       "      <th>landing_page</th>\n",
       "      <th>time_spent_on_the_page</th>\n",
       "      <th>converted</th>\n",
       "      <th>language_preferred</th>\n",
       "    </tr>\n",
       "  </thead>\n",
       "  <tbody>\n",
       "    <tr>\n",
       "      <th>95</th>\n",
       "      <td>546446</td>\n",
       "      <td>treatment</td>\n",
       "      <td>new</td>\n",
       "      <td>5.15</td>\n",
       "      <td>no</td>\n",
       "      <td>Spanish</td>\n",
       "    </tr>\n",
       "    <tr>\n",
       "      <th>96</th>\n",
       "      <td>546544</td>\n",
       "      <td>control</td>\n",
       "      <td>old</td>\n",
       "      <td>6.52</td>\n",
       "      <td>yes</td>\n",
       "      <td>English</td>\n",
       "    </tr>\n",
       "    <tr>\n",
       "      <th>97</th>\n",
       "      <td>546472</td>\n",
       "      <td>treatment</td>\n",
       "      <td>new</td>\n",
       "      <td>7.07</td>\n",
       "      <td>yes</td>\n",
       "      <td>Spanish</td>\n",
       "    </tr>\n",
       "    <tr>\n",
       "      <th>98</th>\n",
       "      <td>546481</td>\n",
       "      <td>treatment</td>\n",
       "      <td>new</td>\n",
       "      <td>6.20</td>\n",
       "      <td>yes</td>\n",
       "      <td>Spanish</td>\n",
       "    </tr>\n",
       "    <tr>\n",
       "      <th>99</th>\n",
       "      <td>546483</td>\n",
       "      <td>treatment</td>\n",
       "      <td>new</td>\n",
       "      <td>5.86</td>\n",
       "      <td>yes</td>\n",
       "      <td>English</td>\n",
       "    </tr>\n",
       "  </tbody>\n",
       "</table>\n",
       "</div>"
      ],
      "text/plain": [
       "    user_id      group landing_page  time_spent_on_the_page converted  \\\n",
       "95   546446  treatment          new                    5.15        no   \n",
       "96   546544    control          old                    6.52       yes   \n",
       "97   546472  treatment          new                    7.07       yes   \n",
       "98   546481  treatment          new                    6.20       yes   \n",
       "99   546483  treatment          new                    5.86       yes   \n",
       "\n",
       "   language_preferred  \n",
       "95            Spanish  \n",
       "96            English  \n",
       "97            Spanish  \n",
       "98            Spanish  \n",
       "99            English  "
      ]
     },
     "execution_count": 44,
     "metadata": {},
     "output_type": "execute_result"
    }
   ],
   "source": [
    "data.tail()"
   ]
  },
  {
   "cell_type": "code",
   "execution_count": 45,
   "id": "623e02a7",
   "metadata": {},
   "outputs": [
    {
     "data": {
      "text/plain": [
       "(100, 6)"
      ]
     },
     "execution_count": 45,
     "metadata": {},
     "output_type": "execute_result"
    }
   ],
   "source": [
    "data.shape"
   ]
  },
  {
   "cell_type": "markdown",
   "id": "56fc349c",
   "metadata": {},
   "source": [
    "Observation: We can infer that there are 100 samples and 6 variables available to analyze for gaining insights based on the shape of the data as well as the information obtained from the head and tail of the data."
   ]
  },
  {
   "cell_type": "code",
   "execution_count": 46,
   "id": "61f4a16c",
   "metadata": {},
   "outputs": [
    {
     "name": "stdout",
     "output_type": "stream",
     "text": [
      "<class 'pandas.core.frame.DataFrame'>\n",
      "RangeIndex: 100 entries, 0 to 99\n",
      "Data columns (total 6 columns):\n",
      " #   Column                  Non-Null Count  Dtype  \n",
      "---  ------                  --------------  -----  \n",
      " 0   user_id                 100 non-null    int64  \n",
      " 1   group                   100 non-null    object \n",
      " 2   landing_page            100 non-null    object \n",
      " 3   time_spent_on_the_page  100 non-null    float64\n",
      " 4   converted               100 non-null    object \n",
      " 5   language_preferred      100 non-null    object \n",
      "dtypes: float64(1), int64(1), object(4)\n",
      "memory usage: 4.8+ KB\n"
     ]
    }
   ],
   "source": [
    "data.info()"
   ]
  },
  {
   "cell_type": "code",
   "execution_count": 47,
   "id": "2c4136ec",
   "metadata": {},
   "outputs": [],
   "source": [
    "data[\"user_id\"]=data[\"user_id\"].astype(\"category\")"
   ]
  },
  {
   "cell_type": "code",
   "execution_count": 48,
   "id": "1cc64796",
   "metadata": {},
   "outputs": [
    {
     "name": "stdout",
     "output_type": "stream",
     "text": [
      "<class 'pandas.core.frame.DataFrame'>\n",
      "RangeIndex: 100 entries, 0 to 99\n",
      "Data columns (total 6 columns):\n",
      " #   Column                  Non-Null Count  Dtype   \n",
      "---  ------                  --------------  -----   \n",
      " 0   user_id                 100 non-null    category\n",
      " 1   group                   100 non-null    object  \n",
      " 2   landing_page            100 non-null    object  \n",
      " 3   time_spent_on_the_page  100 non-null    float64 \n",
      " 4   converted               100 non-null    object  \n",
      " 5   language_preferred      100 non-null    object  \n",
      "dtypes: category(1), float64(1), object(4)\n",
      "memory usage: 9.0+ KB\n"
     ]
    }
   ],
   "source": [
    "data.info()"
   ]
  },
  {
   "cell_type": "markdown",
   "id": "578ce336",
   "metadata": {},
   "source": [
    "Observation: The data in the user_id variable cannot be considered as integer-type even though it contains numbers as it represents an identity code and should be treated as a category. On the other hand, time_spent_on_the_page is the only variable that can be considered as numerical/continuous for the analysis as it consists of time measurements in seconds."
   ]
  },
  {
   "cell_type": "code",
   "execution_count": 49,
   "id": "65f7e836",
   "metadata": {},
   "outputs": [
    {
     "data": {
      "text/plain": [
       "user_id                   0\n",
       "group                     0\n",
       "landing_page              0\n",
       "time_spent_on_the_page    0\n",
       "converted                 0\n",
       "language_preferred        0\n",
       "dtype: int64"
      ]
     },
     "execution_count": 49,
     "metadata": {},
     "output_type": "execute_result"
    }
   ],
   "source": [
    "data.isnull().sum()"
   ]
  },
  {
   "cell_type": "code",
   "execution_count": 50,
   "id": "9db1238a",
   "metadata": {},
   "outputs": [
    {
     "data": {
      "text/plain": [
       "0"
      ]
     },
     "execution_count": 50,
     "metadata": {},
     "output_type": "execute_result"
    }
   ],
   "source": [
    "data.duplicated().sum()"
   ]
  },
  {
   "cell_type": "code",
   "execution_count": 51,
   "id": "7cc31ca8",
   "metadata": {},
   "outputs": [
    {
     "data": {
      "text/html": [
       "<div>\n",
       "<style scoped>\n",
       "    .dataframe tbody tr th:only-of-type {\n",
       "        vertical-align: middle;\n",
       "    }\n",
       "\n",
       "    .dataframe tbody tr th {\n",
       "        vertical-align: top;\n",
       "    }\n",
       "\n",
       "    .dataframe thead th {\n",
       "        text-align: right;\n",
       "    }\n",
       "</style>\n",
       "<table border=\"1\" class=\"dataframe\">\n",
       "  <thead>\n",
       "    <tr style=\"text-align: right;\">\n",
       "      <th></th>\n",
       "      <th>time_spent_on_the_page</th>\n",
       "    </tr>\n",
       "  </thead>\n",
       "  <tbody>\n",
       "    <tr>\n",
       "      <th>count</th>\n",
       "      <td>100.000000</td>\n",
       "    </tr>\n",
       "    <tr>\n",
       "      <th>mean</th>\n",
       "      <td>5.377800</td>\n",
       "    </tr>\n",
       "    <tr>\n",
       "      <th>std</th>\n",
       "      <td>2.378166</td>\n",
       "    </tr>\n",
       "    <tr>\n",
       "      <th>min</th>\n",
       "      <td>0.190000</td>\n",
       "    </tr>\n",
       "    <tr>\n",
       "      <th>25%</th>\n",
       "      <td>3.880000</td>\n",
       "    </tr>\n",
       "    <tr>\n",
       "      <th>50%</th>\n",
       "      <td>5.415000</td>\n",
       "    </tr>\n",
       "    <tr>\n",
       "      <th>75%</th>\n",
       "      <td>7.022500</td>\n",
       "    </tr>\n",
       "    <tr>\n",
       "      <th>max</th>\n",
       "      <td>10.710000</td>\n",
       "    </tr>\n",
       "  </tbody>\n",
       "</table>\n",
       "</div>"
      ],
      "text/plain": [
       "       time_spent_on_the_page\n",
       "count              100.000000\n",
       "mean                 5.377800\n",
       "std                  2.378166\n",
       "min                  0.190000\n",
       "25%                  3.880000\n",
       "50%                  5.415000\n",
       "75%                  7.022500\n",
       "max                 10.710000"
      ]
     },
     "execution_count": 51,
     "metadata": {},
     "output_type": "execute_result"
    }
   ],
   "source": [
    "data.describe()"
   ]
  },
  {
   "cell_type": "code",
   "execution_count": 23,
   "id": "0906cfed",
   "metadata": {},
   "outputs": [
    {
     "data": {
      "text/plain": [
       "<AxesSubplot:xlabel='time_spent_on_the_page'>"
      ]
     },
     "execution_count": 23,
     "metadata": {},
     "output_type": "execute_result"
    },
    {
     "data": {
      "image/png": "[encoded data removed]",
      "text/plain": [
       "<Figure size 640x480 with 1 Axes>"
      ]
     },
     "metadata": {},
     "output_type": "display_data"
    }
   ],
   "source": [
    "sns.boxplot(data['time_spent_on_the_page'], color='indianred')"
   ]
  },
  {
   "cell_type": "markdown",
   "id": "14825cb0",
   "metadata": {},
   "source": [
    "observation: As previously, the only variable we have that is numerical and continuous is time_spent_on_the_page, which we will be analyzing. Our sample size is 100, with the users' mean time spent on a page being 5.3 minutes. The minimum time spent on a page is 0.19 minutes, while the maximum time spent on a page is 10.71 minutes."
   ]
  },
  {
   "cell_type": "code",
   "execution_count": 21,
   "id": "29f16701",
   "metadata": {},
   "outputs": [
    {
     "data": {
      "text/html": [
       "<div>\n",
       "<style scoped>\n",
       "    .dataframe tbody tr th:only-of-type {\n",
       "        vertical-align: middle;\n",
       "    }\n",
       "\n",
       "    .dataframe tbody tr th {\n",
       "        vertical-align: top;\n",
       "    }\n",
       "\n",
       "    .dataframe thead th {\n",
       "        text-align: right;\n",
       "    }\n",
       "</style>\n",
       "<table border=\"1\" class=\"dataframe\">\n",
       "  <thead>\n",
       "    <tr style=\"text-align: right;\">\n",
       "      <th></th>\n",
       "      <th>user_id</th>\n",
       "    </tr>\n",
       "  </thead>\n",
       "  <tbody>\n",
       "    <tr>\n",
       "      <th>count</th>\n",
       "      <td>100</td>\n",
       "    </tr>\n",
       "    <tr>\n",
       "      <th>unique</th>\n",
       "      <td>100</td>\n",
       "    </tr>\n",
       "    <tr>\n",
       "      <th>top</th>\n",
       "      <td>546443</td>\n",
       "    </tr>\n",
       "    <tr>\n",
       "      <th>freq</th>\n",
       "      <td>1</td>\n",
       "    </tr>\n",
       "  </tbody>\n",
       "</table>\n",
       "</div>"
      ],
      "text/plain": [
       "        user_id\n",
       "count       100\n",
       "unique      100\n",
       "top      546443\n",
       "freq          1"
      ]
     },
     "execution_count": 21,
     "metadata": {},
     "output_type": "execute_result"
    }
   ],
   "source": [
    "data.describe(include=[\"category\"])"
   ]
  },
  {
   "cell_type": "markdown",
   "id": "7ab7675d",
   "metadata": {},
   "source": [
    " rewrite : Observation\n",
    "Based on the description, head and tail of the data we can note the following: • We have 100 unique users.\n",
    "• Users are equally divided into 2 groups: Control and Treatment.\n",
    "• Users are exposed to 2 different types of landing pages: Old and New.\n",
    "• Out of 100, 55 users are converted into subscribers. • Users are divided by 3 different preferred languages."
   ]
  },
  {
   "cell_type": "markdown",
   "id": "68f3b2c9",
   "metadata": {
    "id": "68f3b2c9"
   },
   "source": [
    "### Univariate Analysis"
   ]
  },
  {
   "cell_type": "markdown",
   "id": "76cd4aa2",
   "metadata": {
    "id": "1932d0f3"
   },
   "source": [
    "1. Group"
   ]
  },
  {
   "cell_type": "code",
   "execution_count": 25,
   "id": "7f1f0891",
   "metadata": {},
   "outputs": [
    {
     "data": {
      "image/png": "[encoded data removed]",
      "text/plain": [
       "<Figure size 640x480 with 1 Axes>"
      ]
     },
     "metadata": {},
     "output_type": "display_data"
    }
   ],
   "source": [
    "ax = sns.countplot(data['group'])\n",
    "bar_perc = (ax, data['group']) "
   ]
  },
  {
   "cell_type": "markdown",
   "id": "ebeebd32",
   "metadata": {},
   "source": [
    "Both Control and Treatment are equal in count of users."
   ]
  },
  {
   "cell_type": "markdown",
   "id": "3653ae27",
   "metadata": {},
   "source": [
    "2. landing page "
   ]
  },
  {
   "cell_type": "code",
   "execution_count": 27,
   "id": "835260e2",
   "metadata": {},
   "outputs": [
    {
     "data": {
      "image/png": "[encoded data removed]",
      "text/plain": [
       "<Figure size 640x480 with 1 Axes>"
      ]
     },
     "metadata": {},
     "output_type": "display_data"
    }
   ],
   "source": [
    "ax = sns.countplot(data['landing_page'])\n",
    "bar_perc=(ax, data['landing_page'])"
   ]
  },
  {
   "cell_type": "markdown",
   "id": "7bc6bbc3",
   "metadata": {},
   "source": [
    "the visual representation of the landing page variable confirms that we have 2 types: Old & New that have 50 users each."
   ]
  },
  {
   "cell_type": "markdown",
   "id": "ea1e196a",
   "metadata": {},
   "source": [
    "3. Time spent on the page"
   ]
  },
  {
   "cell_type": "code",
   "execution_count": 29,
   "id": "4ac6f142",
   "metadata": {},
   "outputs": [
    {
     "data": {
      "image/png": "[encoded data removed]",
      "text/plain": [
       "<Figure size 1000x500 with 2 Axes>"
      ]
     },
     "metadata": {},
     "output_type": "display_data"
    }
   ],
   "source": [
    "plt.figure(figsize = (10,5))       # defining the image size\n",
    "plt.subplot(1,2,1)                 # specifying the placement of the 1st subplot\n",
    "sns.histplot(data['time_spent_on_the_page'], kde = True)    # creating a histplot showing kde, as the 1st subplot\n",
    "plt.subplot(1,2,2)                 # specifying the placement of the 2nd subplot\n",
    "sns.boxplot(x = data['time_spent_on_the_page'], showmeans = True)  # creating a boxplot indicating mean, as the 2nd subplot\n",
    "plt.show()                         # displaying both subplots"
   ]
  },
  {
   "cell_type": "markdown",
   "id": "6687f2c2",
   "metadata": {},
   "source": [
    "The visual representation of the time spent variable confirms the observations noted\n",
    "earlier: the mean time spent on a page by the users is 5.3 minutes, with a minimum of\n",
    "0.19, and a maximum of 10.71 minutes. The median is 5.4 minutes."
   ]
  },
  {
   "cell_type": "markdown",
   "id": "cb2900a5",
   "metadata": {},
   "source": [
    "4. converted"
   ]
  },
  {
   "cell_type": "code",
   "execution_count": 32,
   "id": "7941b267",
   "metadata": {},
   "outputs": [
    {
     "data": {
      "image/png": "[encoded data removed]",
      "text/plain": [
       "<Figure size 640x480 with 1 Axes>"
      ]
     },
     "metadata": {},
     "output_type": "display_data"
    }
   ],
   "source": [
    "ax = sns.countplot(data['converted'])\n",
    "plt.title('Overall conversion rate')\n",
    "bar_perc = (ax, data['converted'])"
   ]
  },
  {
   "cell_type": "markdown",
   "id": "baf485ce",
   "metadata": {},
   "source": [
    "more than 50 out of 100 customers have subscribed to the portal"
   ]
  },
  {
   "cell_type": "markdown",
   "id": "50c84cc7",
   "metadata": {},
   "source": [
    "5. Language preferred"
   ]
  },
  {
   "cell_type": "code",
   "execution_count": 35,
   "id": "6b84ebfc",
   "metadata": {},
   "outputs": [
    {
     "data": {
      "image/png": "[encoded data removed]",
      "text/plain": [
       "<Figure size 640x480 with 1 Axes>"
      ]
     },
     "metadata": {},
     "output_type": "display_data"
    }
   ],
   "source": [
    "ax = sns.countplot(data['language_preferred'])\n",
    "plt.title('Overall language preference')\n",
    "bar_perc=(ax, data['language_preferred'])"
   ]
  },
  {
   "cell_type": "markdown",
   "id": "308d4422",
   "metadata": {},
   "source": [
    "there are equal count of people preferred reading in french and spanish more than english."
   ]
  },
  {
   "cell_type": "markdown",
   "id": "fad2de2f",
   "metadata": {
    "id": "fad2de2f"
   },
   "source": [
    "### Bivariate Analysis"
   ]
  },
  {
   "cell_type": "markdown",
   "id": "8ab6dc14",
   "metadata": {
    "id": "58e9a1d0"
   },
   "source": [
    "1. group vs landing page"
   ]
  },
  {
   "cell_type": "code",
   "execution_count": 37,
   "id": "4fc77adc",
   "metadata": {},
   "outputs": [
    {
     "data": {
      "image/png": "[encoded data removed]",
      "text/plain": [
       "<Figure size 640x480 with 1 Axes>"
      ]
     },
     "metadata": {},
     "output_type": "display_data"
    }
   ],
   "source": [
    "ax = sns.countplot(x = 'landing_page', data = data, hue = 'group' )\n",
    "bar_perc = (ax, data['landing_page'])\n",
    "plt.title('Group vs Landing page')   # giving a title to the plot\n",
    "plt.legend(title = 'Group',bbox_to_anchor = (1,0.25))  # specifying the title and position of the labels mentioned in the key\n",
    "plt.show()   # displaying the plot"
   ]
  },
  {
   "cell_type": "markdown",
   "id": "c8e6de78",
   "metadata": {},
   "source": [
    "count is equal in new and old page = 50"
   ]
  },
  {
   "cell_type": "markdown",
   "id": "ccb6fc6c",
   "metadata": {},
   "source": [
    "2. group vs time spent "
   ]
  },
  {
   "cell_type": "code",
   "execution_count": 38,
   "id": "67997ade",
   "metadata": {},
   "outputs": [
    {
     "data": {
      "image/png": "[encoded data removed]",
      "text/plain": [
       "<Figure size 640x480 with 1 Axes>"
      ]
     },
     "metadata": {},
     "output_type": "display_data"
    }
   ],
   "source": [
    "sns.boxplot(x = 'group', y = 'time_spent_on_the_page', data = data, showmeans = True)\n",
    "plt.title('Group vs Time spent on the page')\n",
    "plt.show()"
   ]
  },
  {
   "cell_type": "markdown",
   "id": "aa544148",
   "metadata": {},
   "source": [
    "control : \n",
    "\n",
    "no outliers observed\n",
    "mean time is about 5 mins\n",
    "\n",
    "treatment :\n",
    "\n",
    "there are outlieres in both sides\n",
    "mean about 6 min \n"
   ]
  },
  {
   "cell_type": "markdown",
   "id": "6da16ec5",
   "metadata": {},
   "source": [
    "3. Group vs Converted"
   ]
  },
  {
   "cell_type": "code",
   "execution_count": 40,
   "id": "3689da04",
   "metadata": {},
   "outputs": [
    {
     "data": {
      "image/png": "[encoded data removed]",
      "text/plain": [
       "<Figure size 640x480 with 1 Axes>"
      ]
     },
     "metadata": {},
     "output_type": "display_data"
    }
   ],
   "source": [
    "ax = sns.countplot(x = 'converted', data = data, hue = 'group')\n",
    "bar_perc=(ax, data['converted'])\n",
    "plt.title('Group vs Converted')\n",
    "plt.legend(title = 'Group', bbox_to_anchor = (1,0.25))\n",
    "plt.show()"
   ]
  },
  {
   "cell_type": "markdown",
   "id": "fda91b31",
   "metadata": {},
   "source": [
    "control:\n",
    "\n",
    "The number of users who converted is much less than those whose did not\n",
    "\n",
    "treatment:\n",
    "\n",
    "The number of users who converted is much larger in this group comparatively"
   ]
  },
  {
   "cell_type": "markdown",
   "id": "aa11da85",
   "metadata": {},
   "source": [
    "4. Group vs Language preferred"
   ]
  },
  {
   "cell_type": "code",
   "execution_count": 41,
   "id": "3fa74363",
   "metadata": {},
   "outputs": [
    {
     "data": {
      "image/png": "[encoded data removed]",
      "text/plain": [
       "<Figure size 700x500 with 1 Axes>"
      ]
     },
     "metadata": {},
     "output_type": "display_data"
    }
   ],
   "source": [
    "plt.figure(figsize=(7,5))\n",
    "ax = sns.countplot(hue = 'language_preferred', data = data, x = 'group')\n",
    "bar_perc=(ax, data['language_preferred'])\n",
    "plt.title('Group vs Language')\n",
    "plt.legend(title = 'Group', bbox_to_anchor = (1,0.28))\n",
    "plt.show()"
   ]
  },
  {
   "cell_type": "markdown",
   "id": "d87151db",
   "metadata": {},
   "source": [
    "the number of users for each of the languages is almost equal for both groups."
   ]
  },
  {
   "cell_type": "markdown",
   "id": "ab99f109",
   "metadata": {},
   "source": [
    "5. Landing page vs Time spent"
   ]
  },
  {
   "cell_type": "code",
   "execution_count": 42,
   "id": "3e5465c2",
   "metadata": {},
   "outputs": [
    {
     "data": {
      "image/png": "[encoded data removed]",
      "text/plain": [
       "<Figure size 640x480 with 1 Axes>"
      ]
     },
     "metadata": {},
     "output_type": "display_data"
    }
   ],
   "source": [
    "sns.boxplot(x = 'landing_page', y = 'time_spent_on_the_page', data = data, showmeans = True)\n",
    "plt.title('Landing page vs Time spent')\n",
    "plt.show()"
   ]
  },
  {
   "cell_type": "markdown",
   "id": "932f5278",
   "metadata": {},
   "source": [
    "New page:\n",
    "\n",
    "The minimum time spent is about 3 mins and maximum time spent is around 9 mins\n",
    "Outliers spotted on both sides\n",
    "Mean time is around 6 mins and is equal to 50th percentile\n",
    "\n",
    "Old page:\n",
    "\n",
    "The minimum time spent is close to 0 and the maximum time spent is a little above 10 mins\n",
    "No outliers\n",
    "Mean is around 5 mins and it overlaps the 50th percentil\n",
    "\n",
    "## the time spent on the new landing page is higher than the old."
   ]
  },
  {
   "cell_type": "markdown",
   "id": "d1b7218b",
   "metadata": {},
   "source": [
    "6. Landing page vs Converted"
   ]
  },
  {
   "cell_type": "code",
   "execution_count": 44,
   "id": "b2334f52",
   "metadata": {},
   "outputs": [
    {
     "data": {
      "image/png": "[encoded data removed]",
      "text/plain": [
       "<Figure size 640x480 with 1 Axes>"
      ]
     },
     "metadata": {},
     "output_type": "display_data"
    }
   ],
   "source": [
    "ax = sns.countplot(hue = 'landing_page', data = data, x = 'converted')\n",
    "bar_perc=(ax, data['converted'])\n",
    "plt.title('Landing page vs Converted')\n",
    "plt.legend(title = 'Page', bbox_to_anchor = (1,0.25))\n",
    "plt.show()"
   ]
  },
  {
   "cell_type": "markdown",
   "id": "34d54bad",
   "metadata": {},
   "source": [
    "New page:\n",
    "\n",
    "33 users have become subscribers ; 17 have not subscribed\n",
    "\n",
    "Old page:\n",
    "\n",
    "21 users have subscribed to the webportal ; 29 have not subscribed\n",
    "\n",
    "conversion rate is higher for the new landing page."
   ]
  },
  {
   "cell_type": "markdown",
   "id": "a21d7581",
   "metadata": {},
   "source": [
    "7. Landing page vs Language preferred"
   ]
  },
  {
   "cell_type": "code",
   "execution_count": 46,
   "id": "dbfade18",
   "metadata": {},
   "outputs": [
    {
     "data": {
      "image/png": "[encoded data removed]",
      "text/plain": [
       "<Figure size 640x480 with 1 Axes>"
      ]
     },
     "metadata": {},
     "output_type": "display_data"
    }
   ],
   "source": [
    "ax = sns.countplot(hue = 'language_preferred', data = data, x = 'landing_page')\n",
    "bar_perc=(ax, data['language_preferred'])\n",
    "plt.title('Landing page vs Language preferred')\n",
    "plt.legend(title = 'Page',bbox_to_anchor = (1,0.33))\n",
    "plt.show()"
   ]
  },
  {
   "cell_type": "markdown",
   "id": "2d7ce08e",
   "metadata": {},
   "source": [
    "The number of users for all three languages are equal for both new and old landing page"
   ]
  },
  {
   "cell_type": "markdown",
   "id": "e0012d4e",
   "metadata": {},
   "source": [
    "8. Time spent vs Converted"
   ]
  },
  {
   "cell_type": "code",
   "execution_count": 47,
   "id": "979ed65e",
   "metadata": {},
   "outputs": [
    {
     "data": {
      "image/png": "[encoded data removed]",
      "text/plain": [
       "<Figure size 640x480 with 1 Axes>"
      ]
     },
     "metadata": {},
     "output_type": "display_data"
    }
   ],
   "source": [
    "sns.boxplot(x = 'converted', y = 'time_spent_on_the_page', data = data, showmeans = True)\n",
    "plt.title('Time spent vs Converted')\n",
    "plt.show()"
   ]
  },
  {
   "cell_type": "markdown",
   "id": "a92dc2e7",
   "metadata": {},
   "source": [
    "more the time spent by the user on the webportal, it is like that user will get converted."
   ]
  },
  {
   "cell_type": "markdown",
   "id": "cd0dbd75",
   "metadata": {},
   "source": [
    "9. Language preferred vs Converted"
   ]
  },
  {
   "cell_type": "code",
   "execution_count": 49,
   "id": "3754be5a",
   "metadata": {},
   "outputs": [
    {
     "data": {
      "image/png": "[encoded data removed]",
      "text/plain": [
       "<Figure size 700x500 with 1 Axes>"
      ]
     },
     "metadata": {},
     "output_type": "display_data"
    }
   ],
   "source": [
    "plt.figure(figsize=(7,5))\n",
    "ax = sns.countplot(hue = 'language_preferred', data = data, x = 'converted')\n",
    "bar_perc=(ax, data['converted'])\n",
    "plt.title('Language preferred vs Converted')\n",
    "plt.legend(title = 'Page', bbox_to_anchor = (1,0.28))\n",
    "plt.show()"
   ]
  },
  {
   "cell_type": "markdown",
   "id": "c83c35d7",
   "metadata": {},
   "source": [
    "the conversion rate of the users preferring English is the highest followed by Spanish and then French"
   ]
  },
  {
   "cell_type": "markdown",
   "id": "27906576",
   "metadata": {
    "id": "27906576"
   },
   "source": [
    "## 1. Do the users spend more time on the new landing page than the existing landing page?"
   ]
  },
  {
   "cell_type": "markdown",
   "id": "e5fdf0c8",
   "metadata": {
    "id": "e5fdf0c8"
   },
   "source": [
    "### Perform Visual Analysis"
   ]
  },
  {
   "cell_type": "code",
   "execution_count": 33,
   "id": "7a563373",
   "metadata": {
    "id": "6eZJa41eg21n"
   },
   "outputs": [
    {
     "data": {
      "text/plain": [
       "<seaborn.axisgrid.FacetGrid at 0x7fe598820520>"
      ]
     },
     "execution_count": 33,
     "metadata": {},
     "output_type": "execute_result"
    },
    {
     "data": {
      "image/png": "[encoded data removed]",
      "text/plain": [
       "<Figure size 500x500 with 1 Axes>"
      ]
     },
     "metadata": {},
     "output_type": "display_data"
    }
   ],
   "source": [
    "sns.catplot(x=\"landing_page\", y=\"time_spent_on_the_page\", kind=\"box\", data=data,\n",
    "palette=\"Pastel1\")"
   ]
  },
  {
   "cell_type": "code",
   "execution_count": 38,
   "id": "97770d7d",
   "metadata": {},
   "outputs": [
    {
     "data": {
      "text/plain": [
       "<Figure size 700x500 with 0 Axes>"
      ]
     },
     "metadata": {},
     "output_type": "display_data"
    },
    {
     "data": {
      "image/png": "[encoded data removed]",
      "text/plain": [
       "<Figure size 1500x500 with 3 Axes>"
      ]
     },
     "metadata": {},
     "output_type": "display_data"
    }
   ],
   "source": [
    "plt.figure(figsize = (7,5))\n",
    "sns.catplot(x = 'landing_page', y = 'time_spent_on_the_page', col = 'language_preferred', data = data, kind = 'box', showmeans = True)\n",
    "plt.show() "
   ]
  },
  {
   "cell_type": "markdown",
   "id": "76ddf0a2",
   "metadata": {},
   "source": [
    "Hence, we can conclude that the time spent on the new landing page is higher compared to the old landing page irrespective of the language preferred.\n",
    "Based on the observations from both the statistical and visual analysis of the given data, we have enough evidence to prove that the time spent on the new landing page is higher than the time spent on the old landing page."
   ]
  },
  {
   "cell_type": "markdown",
   "id": "56b3dafd",
   "metadata": {
    "id": "56b3dafd"
   },
   "source": [
    "### Step 1: Define the null and alternate hypotheses"
   ]
  },
  {
   "cell_type": "markdown",
   "id": "4bdaa6e6",
   "metadata": {},
   "source": [
    "Null Hypothesis: The conversion rate for the new page is equal to that of the old page. \n",
    "\n",
    "Alternate Hypothesis:The conversion rate for the new page is greater than that of the old page."
   ]
  },
  {
   "cell_type": "markdown",
   "id": "d2ac77ef",
   "metadata": {
    "id": "d2ac77ef"
   },
   "source": [
    "Let\n",
    "\n",
    "µ1 = time spent on the new landing page and\n",
    "\n",
    "µ2 = time spent on the old landing page\n"
   ]
  },
  {
   "cell_type": "markdown",
   "id": "c4c4ba8a",
   "metadata": {},
   "source": [
    "Testing the null hypothesis\n",
    "\n",
    "Ho : µ1 <= µ2\n"
   ]
  },
  {
   "cell_type": "markdown",
   "id": "62c843f4",
   "metadata": {},
   "source": [
    "against the alternative hypothesis\n",
    "\n",
    "Ha : µ1 > µ2\n"
   ]
  },
  {
   "cell_type": "markdown",
   "id": "c7ee4907",
   "metadata": {
    "id": "c7ee4907"
   },
   "source": [
    "### Step 2: Select Appropriate test"
   ]
  },
  {
   "cell_type": "markdown",
   "id": "2c183cd7",
   "metadata": {
    "id": "2c183cd7"
   },
   "source": [
    "Observable qualities:\n",
    "\n",
    "• Test for equality of two means\n",
    "\n",
    "• Unknown standard deviation\n",
    "\n",
    "Due to the fulfilment of the above 2 qualities, the Two independent sample t-test\n",
    "is selected."
   ]
  },
  {
   "cell_type": "markdown",
   "id": "3f58c9a7",
   "metadata": {
    "id": "3f58c9a7"
   },
   "source": [
    "### Step 3: Decide the significance level"
   ]
  },
  {
   "cell_type": "markdown",
   "id": "92d7d7ee",
   "metadata": {
    "id": "92d7d7ee"
   },
   "source": [
    "level of significance 0.05"
   ]
  },
  {
   "cell_type": "markdown",
   "id": "5fed2eac",
   "metadata": {
    "id": "5fed2eac"
   },
   "source": [
    "### Step 4: Collect and prepare data"
   ]
  },
  {
   "cell_type": "code",
   "execution_count": 52,
   "id": "f5a59495",
   "metadata": {
    "id": "f5a59495"
   },
   "outputs": [
    {
     "data": {
      "text/html": [
       "<div>\n",
       "<style scoped>\n",
       "    .dataframe tbody tr th:only-of-type {\n",
       "        vertical-align: middle;\n",
       "    }\n",
       "\n",
       "    .dataframe tbody tr th {\n",
       "        vertical-align: top;\n",
       "    }\n",
       "\n",
       "    .dataframe thead th {\n",
       "        text-align: right;\n",
       "    }\n",
       "</style>\n",
       "<table border=\"1\" class=\"dataframe\">\n",
       "  <thead>\n",
       "    <tr style=\"text-align: right;\">\n",
       "      <th></th>\n",
       "      <th>user_id</th>\n",
       "      <th>group</th>\n",
       "      <th>landing_page</th>\n",
       "      <th>time_spent_on_the_page</th>\n",
       "      <th>converted</th>\n",
       "      <th>language_preferred</th>\n",
       "    </tr>\n",
       "  </thead>\n",
       "  <tbody>\n",
       "    <tr>\n",
       "      <th>0</th>\n",
       "      <td>546592</td>\n",
       "      <td>control</td>\n",
       "      <td>old</td>\n",
       "      <td>3.48</td>\n",
       "      <td>no</td>\n",
       "      <td>Spanish</td>\n",
       "    </tr>\n",
       "    <tr>\n",
       "      <th>1</th>\n",
       "      <td>546468</td>\n",
       "      <td>treatment</td>\n",
       "      <td>new</td>\n",
       "      <td>7.13</td>\n",
       "      <td>yes</td>\n",
       "      <td>English</td>\n",
       "    </tr>\n",
       "    <tr>\n",
       "      <th>2</th>\n",
       "      <td>546462</td>\n",
       "      <td>treatment</td>\n",
       "      <td>new</td>\n",
       "      <td>4.40</td>\n",
       "      <td>no</td>\n",
       "      <td>Spanish</td>\n",
       "    </tr>\n",
       "    <tr>\n",
       "      <th>3</th>\n",
       "      <td>546567</td>\n",
       "      <td>control</td>\n",
       "      <td>old</td>\n",
       "      <td>3.02</td>\n",
       "      <td>no</td>\n",
       "      <td>French</td>\n",
       "    </tr>\n",
       "    <tr>\n",
       "      <th>4</th>\n",
       "      <td>546459</td>\n",
       "      <td>treatment</td>\n",
       "      <td>new</td>\n",
       "      <td>4.75</td>\n",
       "      <td>yes</td>\n",
       "      <td>Spanish</td>\n",
       "    </tr>\n",
       "  </tbody>\n",
       "</table>\n",
       "</div>"
      ],
      "text/plain": [
       "  user_id      group landing_page  time_spent_on_the_page converted  \\\n",
       "0  546592    control          old                    3.48        no   \n",
       "1  546468  treatment          new                    7.13       yes   \n",
       "2  546462  treatment          new                    4.40        no   \n",
       "3  546567    control          old                    3.02        no   \n",
       "4  546459  treatment          new                    4.75       yes   \n",
       "\n",
       "  language_preferred  \n",
       "0            Spanish  \n",
       "1            English  \n",
       "2            Spanish  \n",
       "3             French  \n",
       "4            Spanish  "
      ]
     },
     "execution_count": 52,
     "metadata": {},
     "output_type": "execute_result"
    }
   ],
   "source": [
    "data.head()"
   ]
  },
  {
   "cell_type": "code",
   "execution_count": 53,
   "id": "9d522a97",
   "metadata": {},
   "outputs": [
    {
     "data": {
      "text/html": [
       "<div>\n",
       "<style scoped>\n",
       "    .dataframe tbody tr th:only-of-type {\n",
       "        vertical-align: middle;\n",
       "    }\n",
       "\n",
       "    .dataframe tbody tr th {\n",
       "        vertical-align: top;\n",
       "    }\n",
       "\n",
       "    .dataframe thead th {\n",
       "        text-align: right;\n",
       "    }\n",
       "</style>\n",
       "<table border=\"1\" class=\"dataframe\">\n",
       "  <thead>\n",
       "    <tr style=\"text-align: right;\">\n",
       "      <th>landing_page</th>\n",
       "      <th>new</th>\n",
       "      <th>old</th>\n",
       "    </tr>\n",
       "  </thead>\n",
       "  <tbody>\n",
       "    <tr>\n",
       "      <th>0</th>\n",
       "      <td>NaN</td>\n",
       "      <td>3.48</td>\n",
       "    </tr>\n",
       "    <tr>\n",
       "      <th>1</th>\n",
       "      <td>7.13</td>\n",
       "      <td>NaN</td>\n",
       "    </tr>\n",
       "    <tr>\n",
       "      <th>2</th>\n",
       "      <td>4.40</td>\n",
       "      <td>NaN</td>\n",
       "    </tr>\n",
       "    <tr>\n",
       "      <th>3</th>\n",
       "      <td>NaN</td>\n",
       "      <td>3.02</td>\n",
       "    </tr>\n",
       "    <tr>\n",
       "      <th>4</th>\n",
       "      <td>4.75</td>\n",
       "      <td>NaN</td>\n",
       "    </tr>\n",
       "  </tbody>\n",
       "</table>\n",
       "</div>"
      ],
      "text/plain": [
       "landing_page   new   old\n",
       "0              NaN  3.48\n",
       "1             7.13   NaN\n",
       "2             4.40   NaN\n",
       "3              NaN  3.02\n",
       "4             4.75   NaN"
      ]
     },
     "execution_count": 53,
     "metadata": {},
     "output_type": "execute_result"
    }
   ],
   "source": [
    "data_timespent = data.pivot(columns = 'landing_page', values = 'time_spent_on_the_page')\n",
    "data_timespent.head()"
   ]
  },
  {
   "cell_type": "code",
   "execution_count": 54,
   "id": "cf46b258",
   "metadata": {},
   "outputs": [
    {
     "data": {
      "text/plain": [
       "(100, 2)"
      ]
     },
     "execution_count": 54,
     "metadata": {},
     "output_type": "execute_result"
    }
   ],
   "source": [
    "data_timespent.shape"
   ]
  },
  {
   "cell_type": "code",
   "execution_count": 55,
   "id": "44ec729a",
   "metadata": {},
   "outputs": [
    {
     "name": "stdout",
     "output_type": "stream",
     "text": [
      "<class 'pandas.core.frame.DataFrame'>\n",
      "Int64Index: 100 entries, 0 to 99\n",
      "Data columns (total 2 columns):\n",
      " #   Column  Non-Null Count  Dtype  \n",
      "---  ------  --------------  -----  \n",
      " 0   new     50 non-null     float64\n",
      " 1   old     50 non-null     float64\n",
      "dtypes: float64(2)\n",
      "memory usage: 2.3 KB\n"
     ]
    }
   ],
   "source": [
    "data_timespent.info()"
   ]
  },
  {
   "cell_type": "code",
   "execution_count": 56,
   "id": "72cadcd3",
   "metadata": {},
   "outputs": [
    {
     "data": {
      "text/html": [
       "<div>\n",
       "<style scoped>\n",
       "    .dataframe tbody tr th:only-of-type {\n",
       "        vertical-align: middle;\n",
       "    }\n",
       "\n",
       "    .dataframe tbody tr th {\n",
       "        vertical-align: top;\n",
       "    }\n",
       "\n",
       "    .dataframe thead th {\n",
       "        text-align: right;\n",
       "    }\n",
       "</style>\n",
       "<table border=\"1\" class=\"dataframe\">\n",
       "  <thead>\n",
       "    <tr style=\"text-align: right;\">\n",
       "      <th>landing_page</th>\n",
       "      <th>new</th>\n",
       "      <th>old</th>\n",
       "    </tr>\n",
       "  </thead>\n",
       "  <tbody>\n",
       "    <tr>\n",
       "      <th>count</th>\n",
       "      <td>50.000000</td>\n",
       "      <td>50.000000</td>\n",
       "    </tr>\n",
       "    <tr>\n",
       "      <th>mean</th>\n",
       "      <td>6.223200</td>\n",
       "      <td>4.532400</td>\n",
       "    </tr>\n",
       "    <tr>\n",
       "      <th>std</th>\n",
       "      <td>1.817031</td>\n",
       "      <td>2.581975</td>\n",
       "    </tr>\n",
       "    <tr>\n",
       "      <th>min</th>\n",
       "      <td>1.650000</td>\n",
       "      <td>0.190000</td>\n",
       "    </tr>\n",
       "    <tr>\n",
       "      <th>25%</th>\n",
       "      <td>5.175000</td>\n",
       "      <td>2.720000</td>\n",
       "    </tr>\n",
       "    <tr>\n",
       "      <th>50%</th>\n",
       "      <td>6.105000</td>\n",
       "      <td>4.380000</td>\n",
       "    </tr>\n",
       "    <tr>\n",
       "      <th>75%</th>\n",
       "      <td>7.160000</td>\n",
       "      <td>6.442500</td>\n",
       "    </tr>\n",
       "    <tr>\n",
       "      <th>max</th>\n",
       "      <td>10.710000</td>\n",
       "      <td>10.300000</td>\n",
       "    </tr>\n",
       "  </tbody>\n",
       "</table>\n",
       "</div>"
      ],
      "text/plain": [
       "landing_page        new        old\n",
       "count         50.000000  50.000000\n",
       "mean           6.223200   4.532400\n",
       "std            1.817031   2.581975\n",
       "min            1.650000   0.190000\n",
       "25%            5.175000   2.720000\n",
       "50%            6.105000   4.380000\n",
       "75%            7.160000   6.442500\n",
       "max           10.710000  10.300000"
      ]
     },
     "execution_count": 56,
     "metadata": {},
     "output_type": "execute_result"
    }
   ],
   "source": [
    "data_timespent.describe()"
   ]
  },
  {
   "cell_type": "code",
   "execution_count": 57,
   "id": "7a542120",
   "metadata": {},
   "outputs": [
    {
     "name": "stdout",
     "output_type": "stream",
     "text": [
      "Mean time spent on the new page :  6.2232\n",
      "Mean time spent on the old page :  4.532400000000001\n",
      "Standard deviation of time spent on the new page :  1.8170310387878263\n",
      "Standard deviation of time spent on the old page :  2.581974849306046\n"
     ]
    }
   ],
   "source": [
    "print('Mean time spent on the new page : ', data_timespent['new'].mean())\n",
    "print('Mean time spent on the old page : ', data_timespent['old'].mean())\n",
    "print('Standard deviation of time spent on the new page : ', data_timespent['new'].std())\n",
    "print('Standard deviation of time spent on the old page : ', data_timespent['old'].std())"
   ]
  },
  {
   "cell_type": "code",
   "execution_count": 64,
   "id": "6c2ffcfe",
   "metadata": {},
   "outputs": [],
   "source": [
    "time_new = data.query('landing_page == \"new\"')['time_spent_on_the_page']\n",
    "time_old = data.query('landing_page == \"old\"')['time_spent_on_the_page']\n"
   ]
  },
  {
   "cell_type": "code",
   "execution_count": 65,
   "id": "5b32e8a3",
   "metadata": {},
   "outputs": [
    {
     "data": {
      "text/html": [
       "<div>\n",
       "<style scoped>\n",
       "    .dataframe tbody tr th:only-of-type {\n",
       "        vertical-align: middle;\n",
       "    }\n",
       "\n",
       "    .dataframe tbody tr th {\n",
       "        vertical-align: top;\n",
       "    }\n",
       "\n",
       "    .dataframe thead tr th {\n",
       "        text-align: left;\n",
       "    }\n",
       "\n",
       "    .dataframe thead tr:last-of-type th {\n",
       "        text-align: right;\n",
       "    }\n",
       "</style>\n",
       "<table border=\"1\" class=\"dataframe\">\n",
       "  <thead>\n",
       "    <tr>\n",
       "      <th></th>\n",
       "      <th colspan=\"8\" halign=\"left\">time_spent_on_the_page</th>\n",
       "    </tr>\n",
       "    <tr>\n",
       "      <th></th>\n",
       "      <th>count</th>\n",
       "      <th>mean</th>\n",
       "      <th>std</th>\n",
       "      <th>min</th>\n",
       "      <th>25%</th>\n",
       "      <th>50%</th>\n",
       "      <th>75%</th>\n",
       "      <th>max</th>\n",
       "    </tr>\n",
       "    <tr>\n",
       "      <th>landing_page</th>\n",
       "      <th></th>\n",
       "      <th></th>\n",
       "      <th></th>\n",
       "      <th></th>\n",
       "      <th></th>\n",
       "      <th></th>\n",
       "      <th></th>\n",
       "      <th></th>\n",
       "    </tr>\n",
       "  </thead>\n",
       "  <tbody>\n",
       "    <tr>\n",
       "      <th>new</th>\n",
       "      <td>50.0</td>\n",
       "      <td>6.2232</td>\n",
       "      <td>1.817031</td>\n",
       "      <td>1.65</td>\n",
       "      <td>5.175</td>\n",
       "      <td>6.105</td>\n",
       "      <td>7.1600</td>\n",
       "      <td>10.71</td>\n",
       "    </tr>\n",
       "    <tr>\n",
       "      <th>old</th>\n",
       "      <td>50.0</td>\n",
       "      <td>4.5324</td>\n",
       "      <td>2.581975</td>\n",
       "      <td>0.19</td>\n",
       "      <td>2.720</td>\n",
       "      <td>4.380</td>\n",
       "      <td>6.4425</td>\n",
       "      <td>10.30</td>\n",
       "    </tr>\n",
       "  </tbody>\n",
       "</table>\n",
       "</div>"
      ],
      "text/plain": [
       "             time_spent_on_the_page                                        \\\n",
       "                              count    mean       std   min    25%    50%   \n",
       "landing_page                                                                \n",
       "new                            50.0  6.2232  1.817031  1.65  5.175  6.105   \n",
       "old                            50.0  4.5324  2.581975  0.19  2.720  4.380   \n",
       "\n",
       "                             \n",
       "                 75%    max  \n",
       "landing_page                 \n",
       "new           7.1600  10.71  \n",
       "old           6.4425  10.30  "
      ]
     },
     "execution_count": 65,
     "metadata": {},
     "output_type": "execute_result"
    }
   ],
   "source": [
    "data.groupby('landing_page').describe()"
   ]
  },
  {
   "cell_type": "markdown",
   "id": "f5c5258d",
   "metadata": {
    "id": "f5c5258d"
   },
   "source": [
    "### Step 5: Calculate the p-value"
   ]
  },
  {
   "cell_type": "code",
   "execution_count": 58,
   "id": "fac8594a",
   "metadata": {
    "id": "fac8594a"
   },
   "outputs": [],
   "source": [
    "from scipy.stats import ttest_ind"
   ]
  },
  {
   "cell_type": "code",
   "execution_count": 60,
   "id": "f7707135",
   "metadata": {},
   "outputs": [
    {
     "name": "stdout",
     "output_type": "stream",
     "text": [
      "p-value :  0.0001392381225166549\n"
     ]
    }
   ],
   "source": [
    "test_stat, p_value = ttest_ind(data_timespent['new'].dropna(), data_timespent['old'].dropna(), equal_var = False,alternative = 'greater')                  \n",
    "                                                                \n",
    "print('p-value : ', p_value)"
   ]
  },
  {
   "cell_type": "markdown",
   "id": "359b12f8",
   "metadata": {
    "id": "359b12f8"
   },
   "source": [
    "### Step 6: Compare the p-value with $\\alpha$"
   ]
  },
  {
   "cell_type": "code",
   "execution_count": 62,
   "id": "7be47289",
   "metadata": {
    "id": "7be47289"
   },
   "outputs": [
    {
     "name": "stdout",
     "output_type": "stream",
     "text": [
      "The p-value is less than the significance level, so we reject the null hypothesis.\n"
     ]
    }
   ],
   "source": [
    "import scipy.stats as stats\n",
    "\n",
    "# Assume that you have performed a statistical test and obtained the p-value\n",
    "p_value = 0.03\n",
    "\n",
    "# Set the significance level\n",
    "alpha = 0.05\n",
    "\n",
    "# Compare the p-value with the significance level\n",
    "if p_value < alpha:\n",
    "    print(\"The p-value is less than the significance level, so we reject the null hypothesis.\")\n",
    "else:\n",
    "    print(\"The p-value is greater than or equal to the significance level, so we fail to reject the null hypothesis.\")"
   ]
  },
  {
   "cell_type": "markdown",
   "id": "d9affc84",
   "metadata": {
    "id": "d9affc84"
   },
   "source": [
    "### Step 7:  Draw inference"
   ]
  },
  {
   "cell_type": "markdown",
   "id": "6b16dd4b",
   "metadata": {
    "id": "6b16dd4b"
   },
   "source": [
    "As the p-value (~0.03) is less than the level of significance, we can reject the null\n",
    "hypothesis. Hence, we do not have enough evidence to support the claim that the\n",
    "conversion rate for the new page is the same as the conversion rate for the old page."
   ]
  },
  {
   "cell_type": "markdown",
   "id": "974a54f4",
   "metadata": {},
   "source": [
    "observation : The conversion rate for the new page is greater than the conversion rate for the old\n",
    "page."
   ]
  },
  {
   "cell_type": "markdown",
   "id": "1ad0823a",
   "metadata": {
    "id": "1ad0823a"
   },
   "source": [
    "**A similar approach can be followed to answer the other questions.**"
   ]
  },
  {
   "cell_type": "markdown",
   "id": "353e9d24",
   "metadata": {
    "id": "353e9d24"
   },
   "source": [
    "## 2. Is the conversion rate (the proportion of users who visit the landing page and get converted) for the new page greater than the conversion rate for the old page?"
   ]
  },
  {
   "cell_type": "code",
   "execution_count": 76,
   "id": "e34ec04e",
   "metadata": {},
   "outputs": [
    {
     "data": {
      "image/png": "[encoded data removed]",
      "text/plain": [
       "<Figure size 640x480 with 1 Axes>"
      ]
     },
     "metadata": {},
     "output_type": "display_data"
    }
   ],
   "source": [
    "ax = sns.countplot(hue = 'landing_page', data = data, x = 'converted')\n",
    "bar_perc=(ax, data['converted'])\n",
    "plt.title('Landing page vs Converted')\n",
    "plt.legend(title = 'Page', bbox_to_anchor = (1,0.25))\n",
    "plt.show()"
   ]
  },
  {
   "cell_type": "code",
   "execution_count": 77,
   "id": "a55b6ff8",
   "metadata": {},
   "outputs": [
    {
     "data": {
      "text/plain": [
       "<Figure size 500x500 with 0 Axes>"
      ]
     },
     "metadata": {},
     "output_type": "display_data"
    },
    {
     "data": {
      "image/png": "[encoded data removed]",
      "text/plain": [
       "<Figure size 1585.47x500 with 3 Axes>"
      ]
     },
     "metadata": {},
     "output_type": "display_data"
    }
   ],
   "source": [
    "plt.figure(figsize = (5,5))\n",
    "sns.catplot(x = 'landing_page', hue = 'converted', col = 'language_preferred', data = data, kind = 'count')\n",
    "plt.show()"
   ]
  },
  {
   "cell_type": "markdown",
   "id": "ed71f0e4",
   "metadata": {},
   "source": [
    "### Statistical Analysis\n",
    "\n",
    "1. Defining the hypothesis\n",
    "\n",
    "Let,\n",
    "\n",
    "p1 = proportion of users who visit the new landing page and get converted\n",
    "\n",
    "p2 = proportion of users who visit the old landing page and get converted \n",
    "\n",
    "Testing the null hypothesis\n",
    "\n",
    "Ho : p1 <= p2\n",
    "\n",
    "against the alternative hypothesis\n",
    "\n",
    "Ha : p1 > p2\n",
    "\n",
    "with a level of significance 0.05"
   ]
  },
  {
   "cell_type": "markdown",
   "id": "a6119c16",
   "metadata": {},
   "source": [
    "2. Preparing the data"
   ]
  },
  {
   "cell_type": "code",
   "execution_count": 67,
   "id": "0b389cf0",
   "metadata": {},
   "outputs": [
    {
     "data": {
      "text/html": [
       "<div>\n",
       "<style scoped>\n",
       "    .dataframe tbody tr th:only-of-type {\n",
       "        vertical-align: middle;\n",
       "    }\n",
       "\n",
       "    .dataframe tbody tr th {\n",
       "        vertical-align: top;\n",
       "    }\n",
       "\n",
       "    .dataframe thead th {\n",
       "        text-align: right;\n",
       "    }\n",
       "</style>\n",
       "<table border=\"1\" class=\"dataframe\">\n",
       "  <thead>\n",
       "    <tr style=\"text-align: right;\">\n",
       "      <th></th>\n",
       "      <th>user_id</th>\n",
       "      <th>group</th>\n",
       "      <th>landing_page</th>\n",
       "      <th>time_spent_on_the_page</th>\n",
       "      <th>converted</th>\n",
       "      <th>language_preferred</th>\n",
       "    </tr>\n",
       "  </thead>\n",
       "  <tbody>\n",
       "    <tr>\n",
       "      <th>0</th>\n",
       "      <td>546592</td>\n",
       "      <td>control</td>\n",
       "      <td>old</td>\n",
       "      <td>3.48</td>\n",
       "      <td>no</td>\n",
       "      <td>Spanish</td>\n",
       "    </tr>\n",
       "    <tr>\n",
       "      <th>1</th>\n",
       "      <td>546468</td>\n",
       "      <td>treatment</td>\n",
       "      <td>new</td>\n",
       "      <td>7.13</td>\n",
       "      <td>yes</td>\n",
       "      <td>English</td>\n",
       "    </tr>\n",
       "    <tr>\n",
       "      <th>2</th>\n",
       "      <td>546462</td>\n",
       "      <td>treatment</td>\n",
       "      <td>new</td>\n",
       "      <td>4.40</td>\n",
       "      <td>no</td>\n",
       "      <td>Spanish</td>\n",
       "    </tr>\n",
       "    <tr>\n",
       "      <th>3</th>\n",
       "      <td>546567</td>\n",
       "      <td>control</td>\n",
       "      <td>old</td>\n",
       "      <td>3.02</td>\n",
       "      <td>no</td>\n",
       "      <td>French</td>\n",
       "    </tr>\n",
       "    <tr>\n",
       "      <th>4</th>\n",
       "      <td>546459</td>\n",
       "      <td>treatment</td>\n",
       "      <td>new</td>\n",
       "      <td>4.75</td>\n",
       "      <td>yes</td>\n",
       "      <td>Spanish</td>\n",
       "    </tr>\n",
       "  </tbody>\n",
       "</table>\n",
       "</div>"
      ],
      "text/plain": [
       "  user_id      group landing_page  time_spent_on_the_page converted  \\\n",
       "0  546592    control          old                    3.48        no   \n",
       "1  546468  treatment          new                    7.13       yes   \n",
       "2  546462  treatment          new                    4.40        no   \n",
       "3  546567    control          old                    3.02        no   \n",
       "4  546459  treatment          new                    4.75       yes   \n",
       "\n",
       "  language_preferred  \n",
       "0            Spanish  \n",
       "1            English  \n",
       "2            Spanish  \n",
       "3             French  \n",
       "4            Spanish  "
      ]
     },
     "execution_count": 67,
     "metadata": {},
     "output_type": "execute_result"
    }
   ],
   "source": [
    "data.head()"
   ]
  },
  {
   "cell_type": "code",
   "execution_count": 68,
   "id": "eb75c13d",
   "metadata": {},
   "outputs": [
    {
     "data": {
      "text/html": [
       "<div>\n",
       "<style scoped>\n",
       "    .dataframe tbody tr th:only-of-type {\n",
       "        vertical-align: middle;\n",
       "    }\n",
       "\n",
       "    .dataframe tbody tr th {\n",
       "        vertical-align: top;\n",
       "    }\n",
       "\n",
       "    .dataframe thead th {\n",
       "        text-align: right;\n",
       "    }\n",
       "</style>\n",
       "<table border=\"1\" class=\"dataframe\">\n",
       "  <thead>\n",
       "    <tr style=\"text-align: right;\">\n",
       "      <th>landing_page</th>\n",
       "      <th>new</th>\n",
       "      <th>old</th>\n",
       "    </tr>\n",
       "  </thead>\n",
       "  <tbody>\n",
       "    <tr>\n",
       "      <th>0</th>\n",
       "      <td>NaN</td>\n",
       "      <td>no</td>\n",
       "    </tr>\n",
       "    <tr>\n",
       "      <th>1</th>\n",
       "      <td>yes</td>\n",
       "      <td>NaN</td>\n",
       "    </tr>\n",
       "    <tr>\n",
       "      <th>2</th>\n",
       "      <td>no</td>\n",
       "      <td>NaN</td>\n",
       "    </tr>\n",
       "    <tr>\n",
       "      <th>3</th>\n",
       "      <td>NaN</td>\n",
       "      <td>no</td>\n",
       "    </tr>\n",
       "    <tr>\n",
       "      <th>4</th>\n",
       "      <td>yes</td>\n",
       "      <td>NaN</td>\n",
       "    </tr>\n",
       "  </tbody>\n",
       "</table>\n",
       "</div>"
      ],
      "text/plain": [
       "landing_page  new  old\n",
       "0             NaN   no\n",
       "1             yes  NaN\n",
       "2              no  NaN\n",
       "3             NaN   no\n",
       "4             yes  NaN"
      ]
     },
     "execution_count": 68,
     "metadata": {},
     "output_type": "execute_result"
    }
   ],
   "source": [
    "data_conv = data.pivot(columns = 'landing_page', values = 'converted')\n",
    "data_conv.head() "
   ]
  },
  {
   "cell_type": "code",
   "execution_count": 69,
   "id": "04933db6",
   "metadata": {},
   "outputs": [
    {
     "data": {
      "text/plain": [
       "(100, 2)"
      ]
     },
     "execution_count": 69,
     "metadata": {},
     "output_type": "execute_result"
    }
   ],
   "source": [
    "data_conv.shape"
   ]
  },
  {
   "cell_type": "code",
   "execution_count": 70,
   "id": "96ff31ea",
   "metadata": {},
   "outputs": [
    {
     "name": "stdout",
     "output_type": "stream",
     "text": [
      "<class 'pandas.core.frame.DataFrame'>\n",
      "Int64Index: 100 entries, 0 to 99\n",
      "Data columns (total 2 columns):\n",
      " #   Column  Non-Null Count  Dtype \n",
      "---  ------  --------------  ----- \n",
      " 0   new     50 non-null     object\n",
      " 1   old     50 non-null     object\n",
      "dtypes: object(2)\n",
      "memory usage: 2.3+ KB\n"
     ]
    }
   ],
   "source": [
    "data_conv.info()"
   ]
  },
  {
   "cell_type": "code",
   "execution_count": 71,
   "id": "33b0b412",
   "metadata": {},
   "outputs": [
    {
     "name": "stdout",
     "output_type": "stream",
     "text": [
      "Conversion count of users for the new landing page :\n",
      " yes    33\n",
      "no     17\n",
      "Name: new, dtype: int64\n"
     ]
    }
   ],
   "source": [
    "print('Conversion count of users for the new landing page :\\n', data_conv['new'].value_counts())"
   ]
  },
  {
   "cell_type": "code",
   "execution_count": 72,
   "id": "93106585",
   "metadata": {},
   "outputs": [
    {
     "name": "stdout",
     "output_type": "stream",
     "text": [
      "Conversion count of users for the old landing page :\n",
      " no     29\n",
      "yes    21\n",
      "Name: old, dtype: int64\n"
     ]
    }
   ],
   "source": [
    "print('Conversion count of users for the old landing page :\\n', data_conv['old'].value_counts())"
   ]
  },
  {
   "cell_type": "markdown",
   "id": "03b31811",
   "metadata": {},
   "source": [
    "3. Identifying the right test\n",
    "\n",
    "From the above steps, I conclude to perform Two Proportions Z-Test.\n",
    "\n",
    "checking if np and n(1-p) values for both the landing pages are >= 10\n",
    "\n",
    "n = 50 # number of observations is 50 for each\n",
    "\n",
    "p1 = 33/50 # probability of success for new landing page\n",
    "\n",
    "p2 = 21/50 # success probability for old landing page\n",
    "\n",
    "np1 = 33\n",
    "\n",
    "n(1-p1) = 17\n",
    "\n",
    "np2 = 21\n",
    "\n",
    "n(1-p2) = 29"
   ]
  },
  {
   "cell_type": "markdown",
   "id": "ce6e0c97",
   "metadata": {},
   "source": [
    "4. Checking if Z-test assumptions are satisifed or not\n",
    "\n",
    "Binomially distributed population - Yes, the user either becomes a subscriber or not.\n",
    "Independent populations - Yes.\n",
    "Random sampling - Yes.\n",
    "Can the binomial distribution be approximated to a Normal distribution? - Yes, the np and n(1-p) values for both samples are >= 10\n",
    "Since all the assumptions are satisfied, we can use the Z-test for this problem."
   ]
  },
  {
   "cell_type": "markdown",
   "id": "790cfa3c",
   "metadata": {},
   "source": [
    "5. Performing the test"
   ]
  },
  {
   "cell_type": "code",
   "execution_count": 73,
   "id": "a30a0e73",
   "metadata": {},
   "outputs": [],
   "source": [
    "from statsmodels.stats.proportion import proportions_ztest"
   ]
  },
  {
   "cell_type": "code",
   "execution_count": 74,
   "id": "244e70e2",
   "metadata": {},
   "outputs": [
    {
     "name": "stdout",
     "output_type": "stream",
     "text": [
      "p-value :  0.008026308204056278\n"
     ]
    }
   ],
   "source": [
    "conv_count = np.array([33,21])\n",
    "nobs = np.array([50,50])\n",
    "test_stat, p_value = proportions_ztest(conv_count, nobs, alternative = 'larger')\n",
    "print('p-value : ', p_value)"
   ]
  },
  {
   "cell_type": "markdown",
   "id": "a8907cb9",
   "metadata": {},
   "source": [
    "Based on the observations from both the statistical and visual analysis of the given data, we have enough evidence to prove that the conversion rate (the proportion of users who visit the landing page and get converted) for the new page is greater than the conversion rate for the old page"
   ]
  },
  {
   "cell_type": "markdown",
   "id": "d49bfa2d",
   "metadata": {
    "id": "d49bfa2d"
   },
   "source": [
    "## 3. Is the conversion and preferred language are independent or related?"
   ]
  },
  {
   "cell_type": "code",
   "execution_count": 79,
   "id": "571a088b",
   "metadata": {},
   "outputs": [
    {
     "data": {
      "image/png": "[encoded data removed]",
      "text/plain": [
       "<Figure size 700x500 with 1 Axes>"
      ]
     },
     "metadata": {},
     "output_type": "display_data"
    }
   ],
   "source": [
    "plt.figure(figsize=(7,5))\n",
    "ax = sns.countplot(hue = 'language_preferred', data = data, x = 'converted')\n",
    "bar_perc=(ax, data['converted'])\n",
    "plt.title('Language preferred vs Converted')\n",
    "plt.legend(title = 'Language', bbox_to_anchor = (1,0.28))\n",
    "plt.show()"
   ]
  },
  {
   "cell_type": "code",
   "execution_count": 80,
   "id": "c7966477",
   "metadata": {},
   "outputs": [
    {
     "data": {
      "text/plain": [
       "<Figure size 700x500 with 0 Axes>"
      ]
     },
     "metadata": {},
     "output_type": "display_data"
    },
    {
     "data": {
      "image/png": "[encoded data removed]",
      "text/plain": [
       "<Figure size 1585.47x500 with 3 Axes>"
      ]
     },
     "metadata": {},
     "output_type": "display_data"
    }
   ],
   "source": [
    "plt.figure(figsize = (7,5))\n",
    "ct = sns.catplot(x = 'landing_page', hue = 'converted', col = 'language_preferred', data = data, kind = 'count')\n",
    "ct.fig.subplots_adjust(top=0.85)         \n",
    "plt.suptitle('Converted status for the landing page w.r.t Language preferred') \n",
    "plt.show()"
   ]
  },
  {
   "cell_type": "markdown",
   "id": "6afa4c2f",
   "metadata": {
    "id": "b0e63f17"
   },
   "source": [
    "Statistical Analysis\n",
    "\n",
    "1. Defining the hypothesis\n",
    "\n",
    "Testing the null hypothesis\n",
    "\n",
    "Ho : Converted status is independent of language preferred\n",
    "\n",
    "against the alternative hypothesis\n",
    "\n",
    "Ha : Converted status depends on language preferred\n",
    "\n",
    "with a level of significance 0.05"
   ]
  },
  {
   "cell_type": "markdown",
   "id": "bb5a6dd2",
   "metadata": {},
   "source": [
    "2. Preparing the data"
   ]
  },
  {
   "cell_type": "code",
   "execution_count": 81,
   "id": "977daf9f",
   "metadata": {},
   "outputs": [
    {
     "data": {
      "text/html": [
       "<div>\n",
       "<style scoped>\n",
       "    .dataframe tbody tr th:only-of-type {\n",
       "        vertical-align: middle;\n",
       "    }\n",
       "\n",
       "    .dataframe tbody tr th {\n",
       "        vertical-align: top;\n",
       "    }\n",
       "\n",
       "    .dataframe thead th {\n",
       "        text-align: right;\n",
       "    }\n",
       "</style>\n",
       "<table border=\"1\" class=\"dataframe\">\n",
       "  <thead>\n",
       "    <tr style=\"text-align: right;\">\n",
       "      <th></th>\n",
       "      <th>user_id</th>\n",
       "      <th>group</th>\n",
       "      <th>landing_page</th>\n",
       "      <th>time_spent_on_the_page</th>\n",
       "      <th>converted</th>\n",
       "      <th>language_preferred</th>\n",
       "    </tr>\n",
       "  </thead>\n",
       "  <tbody>\n",
       "    <tr>\n",
       "      <th>0</th>\n",
       "      <td>546592</td>\n",
       "      <td>control</td>\n",
       "      <td>old</td>\n",
       "      <td>3.48</td>\n",
       "      <td>no</td>\n",
       "      <td>Spanish</td>\n",
       "    </tr>\n",
       "    <tr>\n",
       "      <th>1</th>\n",
       "      <td>546468</td>\n",
       "      <td>treatment</td>\n",
       "      <td>new</td>\n",
       "      <td>7.13</td>\n",
       "      <td>yes</td>\n",
       "      <td>English</td>\n",
       "    </tr>\n",
       "    <tr>\n",
       "      <th>2</th>\n",
       "      <td>546462</td>\n",
       "      <td>treatment</td>\n",
       "      <td>new</td>\n",
       "      <td>4.40</td>\n",
       "      <td>no</td>\n",
       "      <td>Spanish</td>\n",
       "    </tr>\n",
       "    <tr>\n",
       "      <th>3</th>\n",
       "      <td>546567</td>\n",
       "      <td>control</td>\n",
       "      <td>old</td>\n",
       "      <td>3.02</td>\n",
       "      <td>no</td>\n",
       "      <td>French</td>\n",
       "    </tr>\n",
       "    <tr>\n",
       "      <th>4</th>\n",
       "      <td>546459</td>\n",
       "      <td>treatment</td>\n",
       "      <td>new</td>\n",
       "      <td>4.75</td>\n",
       "      <td>yes</td>\n",
       "      <td>Spanish</td>\n",
       "    </tr>\n",
       "  </tbody>\n",
       "</table>\n",
       "</div>"
      ],
      "text/plain": [
       "  user_id      group landing_page  time_spent_on_the_page converted  \\\n",
       "0  546592    control          old                    3.48        no   \n",
       "1  546468  treatment          new                    7.13       yes   \n",
       "2  546462  treatment          new                    4.40        no   \n",
       "3  546567    control          old                    3.02        no   \n",
       "4  546459  treatment          new                    4.75       yes   \n",
       "\n",
       "  language_preferred  \n",
       "0            Spanish  \n",
       "1            English  \n",
       "2            Spanish  \n",
       "3             French  \n",
       "4            Spanish  "
      ]
     },
     "execution_count": 81,
     "metadata": {},
     "output_type": "execute_result"
    }
   ],
   "source": [
    "data.head()"
   ]
  },
  {
   "cell_type": "code",
   "execution_count": 82,
   "id": "f5047f3e",
   "metadata": {},
   "outputs": [
    {
     "data": {
      "text/html": [
       "<div>\n",
       "<style scoped>\n",
       "    .dataframe tbody tr th:only-of-type {\n",
       "        vertical-align: middle;\n",
       "    }\n",
       "\n",
       "    .dataframe tbody tr th {\n",
       "        vertical-align: top;\n",
       "    }\n",
       "\n",
       "    .dataframe thead th {\n",
       "        text-align: right;\n",
       "    }\n",
       "</style>\n",
       "<table border=\"1\" class=\"dataframe\">\n",
       "  <thead>\n",
       "    <tr style=\"text-align: right;\">\n",
       "      <th>language_preferred</th>\n",
       "      <th>English</th>\n",
       "      <th>French</th>\n",
       "      <th>Spanish</th>\n",
       "    </tr>\n",
       "    <tr>\n",
       "      <th>converted</th>\n",
       "      <th></th>\n",
       "      <th></th>\n",
       "      <th></th>\n",
       "    </tr>\n",
       "  </thead>\n",
       "  <tbody>\n",
       "    <tr>\n",
       "      <th>no</th>\n",
       "      <td>11</td>\n",
       "      <td>19</td>\n",
       "      <td>16</td>\n",
       "    </tr>\n",
       "    <tr>\n",
       "      <th>yes</th>\n",
       "      <td>21</td>\n",
       "      <td>15</td>\n",
       "      <td>18</td>\n",
       "    </tr>\n",
       "  </tbody>\n",
       "</table>\n",
       "</div>"
      ],
      "text/plain": [
       "language_preferred  English  French  Spanish\n",
       "converted                                   \n",
       "no                       11      19       16\n",
       "yes                      21      15       18"
      ]
     },
     "execution_count": 82,
     "metadata": {},
     "output_type": "execute_result"
    }
   ],
   "source": [
    "data_cont = pd.crosstab(data['converted'], data['language_preferred'])\n",
    "data_cont"
   ]
  },
  {
   "cell_type": "markdown",
   "id": "e03226a9",
   "metadata": {},
   "source": [
    "3. Identifying the right test\n",
    "\n",
    "As the question is to determine if the converted status depends on the language preferred, I conclude to perform the Chi-Square Test for Independence."
   ]
  },
  {
   "cell_type": "markdown",
   "id": "23c67ba8",
   "metadata": {},
   "source": [
    "4. Checking if the assumptions for the test are satisifed or not\n",
    "\n",
    "Categorical variable - Yes, both language preferred and converted status are categorical.\n",
    "Expected value of the number of sample observations in each level of the variable is atleast 5 - Yes, the number of observations in each level is greater than 5.\n",
    "Random sampling from the population - Yes.\n",
    "Since the assumptions are all satisfied, we can apply the Chi-Square Test for Independence."
   ]
  },
  {
   "cell_type": "markdown",
   "id": "2bb5483d",
   "metadata": {},
   "source": [
    "5. Performing the test"
   ]
  },
  {
   "cell_type": "code",
   "execution_count": 83,
   "id": "2d9fd2a8",
   "metadata": {},
   "outputs": [],
   "source": [
    "from scipy.stats import chi2_contingency"
   ]
  },
  {
   "cell_type": "code",
   "execution_count": 84,
   "id": "812236d2",
   "metadata": {},
   "outputs": [
    {
     "name": "stdout",
     "output_type": "stream",
     "text": [
      "p-value :  0.21298887487543447\n"
     ]
    }
   ],
   "source": [
    "chi, pval, dof, exp_freq = chi2_contingency(data_cont)  \n",
    "print('p-value : ', pval)"
   ]
  },
  {
   "cell_type": "markdown",
   "id": "be678090",
   "metadata": {},
   "source": [
    "Based on the observations from both the statistical and visual analysis of the given data, we have enough evidence to prove that the conversion rate is independentof the language preferred."
   ]
  },
  {
   "cell_type": "markdown",
   "id": "8d585a90",
   "metadata": {
    "id": "8d585a90"
   },
   "source": [
    "## 4. Is the time spent on the new page same for the different language users?"
   ]
  },
  {
   "cell_type": "code",
   "execution_count": 106,
   "id": "4e3d4e48",
   "metadata": {},
   "outputs": [
    {
     "data": {
      "image/png": "[encoded data removed]",
      "text/plain": [
       "<Figure size 700x400 with 1 Axes>"
      ]
     },
     "metadata": {},
     "output_type": "display_data"
    }
   ],
   "source": [
    "plt.figure(figsize = (7,4))\n",
    "sns.boxplot(x = 'language_preferred', y = 'time_spent_on_the_page', data = new_pg, showmeans = True)\n",
    "plt.title('Time spent vs Language preferred')\n",
    "plt.show()"
   ]
  },
  {
   "cell_type": "code",
   "execution_count": 107,
   "id": "23146e1d",
   "metadata": {},
   "outputs": [
    {
     "data": {
      "text/plain": [
       "<Figure size 700x500 with 0 Axes>"
      ]
     },
     "metadata": {},
     "output_type": "display_data"
    },
    {
     "data": {
      "image/png": "[encoded data removed]",
      "text/plain": [
       "<Figure size 1500x500 with 3 Axes>"
      ]
     },
     "metadata": {},
     "output_type": "display_data"
    }
   ],
   "source": [
    "plt.figure(figsize = (7,5))\n",
    "sns.catplot(x = 'landing_page', y = 'time_spent_on_the_page', col = 'language_preferred', data = data, kind = 'box', showmeans = True)\n",
    "plt.show()"
   ]
  },
  {
   "cell_type": "markdown",
   "id": "ee0f7f1d",
   "metadata": {
    "id": "b422f395"
   },
   "source": [
    "Statistical Analysis\n",
    "1. Defining the hypothesis\n",
    "\n",
    "Testing the null hypothesis\n",
    "\n",
    "Ho : The mean time spent on the new landing page w.r.t the languages are all equal\n",
    "\n",
    "against the alternative hypothesis\n",
    "\n",
    "Ha : The mean time spent w.r.t. atleast one of the three languages is different\n",
    "\n",
    "with a level of significance 0.05\n",
    "\n",
    "2. Preparing the data"
   ]
  },
  {
   "cell_type": "code",
   "execution_count": 94,
   "id": "a799dbf2",
   "metadata": {},
   "outputs": [
    {
     "data": {
      "text/html": [
       "<div>\n",
       "<style scoped>\n",
       "    .dataframe tbody tr th:only-of-type {\n",
       "        vertical-align: middle;\n",
       "    }\n",
       "\n",
       "    .dataframe tbody tr th {\n",
       "        vertical-align: top;\n",
       "    }\n",
       "\n",
       "    .dataframe thead th {\n",
       "        text-align: right;\n",
       "    }\n",
       "</style>\n",
       "<table border=\"1\" class=\"dataframe\">\n",
       "  <thead>\n",
       "    <tr style=\"text-align: right;\">\n",
       "      <th></th>\n",
       "      <th>user_id</th>\n",
       "      <th>group</th>\n",
       "      <th>landing_page</th>\n",
       "      <th>time_spent_on_the_page</th>\n",
       "      <th>converted</th>\n",
       "      <th>language_preferred</th>\n",
       "    </tr>\n",
       "  </thead>\n",
       "  <tbody>\n",
       "    <tr>\n",
       "      <th>0</th>\n",
       "      <td>546592</td>\n",
       "      <td>control</td>\n",
       "      <td>old</td>\n",
       "      <td>3.48</td>\n",
       "      <td>no</td>\n",
       "      <td>Spanish</td>\n",
       "    </tr>\n",
       "    <tr>\n",
       "      <th>1</th>\n",
       "      <td>546468</td>\n",
       "      <td>treatment</td>\n",
       "      <td>new</td>\n",
       "      <td>7.13</td>\n",
       "      <td>yes</td>\n",
       "      <td>English</td>\n",
       "    </tr>\n",
       "    <tr>\n",
       "      <th>2</th>\n",
       "      <td>546462</td>\n",
       "      <td>treatment</td>\n",
       "      <td>new</td>\n",
       "      <td>4.40</td>\n",
       "      <td>no</td>\n",
       "      <td>Spanish</td>\n",
       "    </tr>\n",
       "    <tr>\n",
       "      <th>3</th>\n",
       "      <td>546567</td>\n",
       "      <td>control</td>\n",
       "      <td>old</td>\n",
       "      <td>3.02</td>\n",
       "      <td>no</td>\n",
       "      <td>French</td>\n",
       "    </tr>\n",
       "    <tr>\n",
       "      <th>4</th>\n",
       "      <td>546459</td>\n",
       "      <td>treatment</td>\n",
       "      <td>new</td>\n",
       "      <td>4.75</td>\n",
       "      <td>yes</td>\n",
       "      <td>Spanish</td>\n",
       "    </tr>\n",
       "  </tbody>\n",
       "</table>\n",
       "</div>"
      ],
      "text/plain": [
       "  user_id      group landing_page  time_spent_on_the_page converted  \\\n",
       "0  546592    control          old                    3.48        no   \n",
       "1  546468  treatment          new                    7.13       yes   \n",
       "2  546462  treatment          new                    4.40        no   \n",
       "3  546567    control          old                    3.02        no   \n",
       "4  546459  treatment          new                    4.75       yes   \n",
       "\n",
       "  language_preferred  \n",
       "0            Spanish  \n",
       "1            English  \n",
       "2            Spanish  \n",
       "3             French  \n",
       "4            Spanish  "
      ]
     },
     "execution_count": 94,
     "metadata": {},
     "output_type": "execute_result"
    }
   ],
   "source": [
    "data.head()"
   ]
  },
  {
   "cell_type": "code",
   "execution_count": 95,
   "id": "b554564e",
   "metadata": {},
   "outputs": [
    {
     "data": {
      "text/html": [
       "<div>\n",
       "<style scoped>\n",
       "    .dataframe tbody tr th:only-of-type {\n",
       "        vertical-align: middle;\n",
       "    }\n",
       "\n",
       "    .dataframe tbody tr th {\n",
       "        vertical-align: top;\n",
       "    }\n",
       "\n",
       "    .dataframe thead th {\n",
       "        text-align: right;\n",
       "    }\n",
       "</style>\n",
       "<table border=\"1\" class=\"dataframe\">\n",
       "  <thead>\n",
       "    <tr style=\"text-align: right;\">\n",
       "      <th></th>\n",
       "      <th>user_id</th>\n",
       "      <th>group</th>\n",
       "      <th>landing_page</th>\n",
       "      <th>time_spent_on_the_page</th>\n",
       "      <th>converted</th>\n",
       "      <th>language_preferred</th>\n",
       "    </tr>\n",
       "  </thead>\n",
       "  <tbody>\n",
       "    <tr>\n",
       "      <th>1</th>\n",
       "      <td>546468</td>\n",
       "      <td>treatment</td>\n",
       "      <td>new</td>\n",
       "      <td>7.13</td>\n",
       "      <td>yes</td>\n",
       "      <td>English</td>\n",
       "    </tr>\n",
       "    <tr>\n",
       "      <th>2</th>\n",
       "      <td>546462</td>\n",
       "      <td>treatment</td>\n",
       "      <td>new</td>\n",
       "      <td>4.40</td>\n",
       "      <td>no</td>\n",
       "      <td>Spanish</td>\n",
       "    </tr>\n",
       "    <tr>\n",
       "      <th>4</th>\n",
       "      <td>546459</td>\n",
       "      <td>treatment</td>\n",
       "      <td>new</td>\n",
       "      <td>4.75</td>\n",
       "      <td>yes</td>\n",
       "      <td>Spanish</td>\n",
       "    </tr>\n",
       "    <tr>\n",
       "      <th>6</th>\n",
       "      <td>546448</td>\n",
       "      <td>treatment</td>\n",
       "      <td>new</td>\n",
       "      <td>5.25</td>\n",
       "      <td>yes</td>\n",
       "      <td>French</td>\n",
       "    </tr>\n",
       "    <tr>\n",
       "      <th>8</th>\n",
       "      <td>546461</td>\n",
       "      <td>treatment</td>\n",
       "      <td>new</td>\n",
       "      <td>10.71</td>\n",
       "      <td>yes</td>\n",
       "      <td>French</td>\n",
       "    </tr>\n",
       "  </tbody>\n",
       "</table>\n",
       "</div>"
      ],
      "text/plain": [
       "  user_id      group landing_page  time_spent_on_the_page converted  \\\n",
       "1  546468  treatment          new                    7.13       yes   \n",
       "2  546462  treatment          new                    4.40        no   \n",
       "4  546459  treatment          new                    4.75       yes   \n",
       "6  546448  treatment          new                    5.25       yes   \n",
       "8  546461  treatment          new                   10.71       yes   \n",
       "\n",
       "  language_preferred  \n",
       "1            English  \n",
       "2            Spanish  \n",
       "4            Spanish  \n",
       "6             French  \n",
       "8             French  "
      ]
     },
     "execution_count": 95,
     "metadata": {},
     "output_type": "execute_result"
    }
   ],
   "source": [
    "new_pg = data[data['landing_page']=='new']   \n",
    "new_pg.head()      "
   ]
  },
  {
   "cell_type": "code",
   "execution_count": 96,
   "id": "6a771596",
   "metadata": {},
   "outputs": [
    {
     "data": {
      "text/plain": [
       "(50, 6)"
      ]
     },
     "execution_count": 96,
     "metadata": {},
     "output_type": "execute_result"
    }
   ],
   "source": [
    "new_pg.shape  "
   ]
  },
  {
   "cell_type": "code",
   "execution_count": 97,
   "id": "27cdb8ac",
   "metadata": {},
   "outputs": [
    {
     "data": {
      "text/plain": [
       "Spanish    17\n",
       "French     17\n",
       "English    16\n",
       "Name: language_preferred, dtype: int64"
      ]
     },
     "execution_count": 97,
     "metadata": {},
     "output_type": "execute_result"
    }
   ],
   "source": [
    "new_pg['language_preferred'].value_counts()"
   ]
  },
  {
   "cell_type": "code",
   "execution_count": 98,
   "id": "641e732a",
   "metadata": {},
   "outputs": [
    {
     "data": {
      "text/plain": [
       "language_preferred\n",
       "English    6.663750\n",
       "French     6.196471\n",
       "Spanish    5.835294\n",
       "Name: time_spent_on_the_page, dtype: float64"
      ]
     },
     "execution_count": 98,
     "metadata": {},
     "output_type": "execute_result"
    }
   ],
   "source": [
    "new_pg.groupby('language_preferred')['time_spent_on_the_page'].mean()"
   ]
  },
  {
   "cell_type": "markdown",
   "id": "7dc79b07",
   "metadata": {},
   "source": [
    "3. Identifying the right test\n",
    "\n",
    "The question is based on the mean time spent on the new page by three different language users. Basically it is a test for means for more than two populations, I conclude to perform the One-way ANOVA F-test."
   ]
  },
  {
   "cell_type": "markdown",
   "id": "958330a4",
   "metadata": {},
   "source": [
    "4. Checking if test assumptions are satisifed or not\n",
    "\n",
    "The normality and equality of variance assumptions are checked below for the response variable time_spent_onthe page."
   ]
  },
  {
   "cell_type": "markdown",
   "id": "ccfcddda",
   "metadata": {},
   "source": [
    "Normality check with Shapiro-Wilk'sTest\n",
    "\n",
    "Testing the null hypothesis\n",
    "\n",
    "Ho : Time spent follows normal distribution\n",
    "\n",
    "against the alternative hypothesis\n",
    "\n",
    "Ha : Time spent does not follow normal distribution\n",
    "\n",
    "with a level of significance 0.05"
   ]
  },
  {
   "cell_type": "code",
   "execution_count": 99,
   "id": "a053d90b",
   "metadata": {},
   "outputs": [],
   "source": [
    "from scipy.stats import shapiro"
   ]
  },
  {
   "cell_type": "code",
   "execution_count": 100,
   "id": "ad419703",
   "metadata": {},
   "outputs": [
    {
     "name": "stdout",
     "output_type": "stream",
     "text": [
      "p-value :  0.8040016293525696\n"
     ]
    }
   ],
   "source": [
    "test_stat, p_value = shapiro(new_pg['time_spent_on_the_page'])\n",
    "print('p-value : ', p_value)"
   ]
  },
  {
   "cell_type": "markdown",
   "id": "f449f61e",
   "metadata": {},
   "source": [
    "Equality check with Levene's Test\n",
    "\n",
    "Testing the null hypothesis\n",
    "\n",
    "Ho : All the population variances are equal\n",
    "\n",
    "against the alternative hypothesis\n",
    "\n",
    "Ha : Atleast one variance is different from the rest"
   ]
  },
  {
   "cell_type": "code",
   "execution_count": 101,
   "id": "24e7b41f",
   "metadata": {},
   "outputs": [],
   "source": [
    "from scipy.stats import levene"
   ]
  },
  {
   "cell_type": "code",
   "execution_count": 103,
   "id": "b07596ad",
   "metadata": {},
   "outputs": [
    {
     "name": "stdout",
     "output_type": "stream",
     "text": [
      "p-value :  0.46711357711340173\n"
     ]
    }
   ],
   "source": [
    "test_stat, p_value = levene(new_pg['time_spent_on_the_page'][new_pg['language_preferred']=='English'],new_pg['time_spent_on_the_page'][new_pg['language_preferred']== 'French'],new_pg['time_spent_on_the_page'][new_pg['language_preferred']=='Spanish'])\n",
    "print('p-value : ', p_value)"
   ]
  },
  {
   "cell_type": "markdown",
   "id": "c61e2cfd",
   "metadata": {},
   "source": [
    "5. Checking if ANOVA test assumptions are satisifed or not\n",
    "\n",
    "The populations are normally distributed - Yes, it is verified using the Shapiro-Wilk's test.\n",
    "Population variances are equal - Yes, the homogeneity of varaince assumption is verified using the Levene's test.\n",
    "Independent random samples - Yes.\n",
    "As all the assumptions are staisfied, we can perform the One-way ANOVA F test."
   ]
  },
  {
   "cell_type": "markdown",
   "id": "9152a34f",
   "metadata": {},
   "source": [
    "6. Performing the test"
   ]
  },
  {
   "cell_type": "code",
   "execution_count": 104,
   "id": "08d4437f",
   "metadata": {},
   "outputs": [],
   "source": [
    "from scipy.stats import f_oneway"
   ]
  },
  {
   "cell_type": "code",
   "execution_count": 105,
   "id": "8fab313f",
   "metadata": {},
   "outputs": [
    {
     "name": "stdout",
     "output_type": "stream",
     "text": [
      "p-value :  0.43204138694325955\n"
     ]
    }
   ],
   "source": [
    "test_stat, p_value = f_oneway(new_pg.loc[new_pg['language_preferred']=='English','time_spent_on_the_page'],new_pg.loc[new_pg['language_preferred']=='French','time_spent_on_the_page'],new_pg.loc[new_pg['language_preferred']=='Spanish','time_spent_on_the_page'])\n",
    "print('p-value : ', p_value)"
   ]
  },
  {
   "cell_type": "markdown",
   "id": "08f7009c",
   "metadata": {},
   "source": [
    "Based on the observations from both the statistical and visual analysis of the given data, we have enough evidence to prove that the mean time spent on the new page for the different language users are same."
   ]
  },
  {
   "cell_type": "markdown",
   "id": "3acbc947",
   "metadata": {
    "id": "3acbc947"
   },
   "source": [
    "## Conclusion and Business Recommendations"
   ]
  },
  {
   "cell_type": "markdown",
   "id": "21fb1063",
   "metadata": {
    "id": "21fb1063"
   },
   "source": [
    "Based on the statistical and visual analysis conducted, it can be inferred that, at a 5% significance level:\n",
    "\n",
    "The new landing page has a higher user engagement, as users spend more time on it compared to the old landing page.\n",
    "The conversion rate for the new landing page is superior to that of the old landing page.\n",
    "The choice of language does not influence the conversion status.\n",
    "The average time spent on the new landing page is consistent across different language preferences.\n",
    "Overall, the data provides sufficient statistical and visual evidence to support the idea that the business would benefit significantly from the introduction of the new landing page."
   ]
  },
  {
   "cell_type": "markdown",
   "id": "U0dAd4i0iCHo",
   "metadata": {
    "id": "U0dAd4i0iCHo"
   },
   "source": [
    "___"
   ]
  }
 ],
 "metadata": {
  "colab": {
   "collapsed_sections": [
    "a6a3d218",
    "6970dd99",
    "9d75cfa2",
    "68f3b2c9",
    "fad2de2f",
    "27906576",
    "e5fdf0c8",
    "56b3dafd",
    "c7ee4907",
    "3f58c9a7",
    "5fed2eac",
    "f5c5258d",
    "359b12f8",
    "d9affc84",
    "353e9d24",
    "d49bfa2d",
    "8d585a90",
    "3acbc947"
   ],
   "name": "ENews_Express_Learner_Notebook_Full_Code v1.1.ipynb",
   "provenance": []
  },
  "kernelspec": {
   "display_name": "Python 3 (ipykernel)",
   "language": "python",
   "name": "python3"
  },
  "language_info": {
   "codemirror_mode": {
    "name": "ipython",
    "version": 3
   },
   "file_extension": ".py",
   "mimetype": "text/x-python",
   "name": "python",
   "nbconvert_exporter": "python",
   "pygments_lexer": "ipython3",
   "version": "3.9.13"
  }
 },
 "nbformat": 4,
 "nbformat_minor": 5
}
